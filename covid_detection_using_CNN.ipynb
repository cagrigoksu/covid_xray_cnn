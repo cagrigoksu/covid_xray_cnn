{
  "nbformat": 4,
  "nbformat_minor": 0,
  "metadata": {
    "colab": {
      "provenance": [],
      "mount_file_id": "1f16QfswmFPBJ9CcE1NWxyLPcUBIc2kk0",
      "authorship_tag": "ABX9TyPduPErXUZnirOIPTgp7uWL"
    },
    "kernelspec": {
      "name": "python3",
      "display_name": "Python 3"
    },
    "language_info": {
      "name": "python"
    },
    "accelerator": "GPU"
  },
  "cells": [
    {
      "cell_type": "markdown",
      "source": [
        "# Dataset download from Google Drive"
      ],
      "metadata": {
        "id": "BfxbdYZOgfDM"
      }
    },
    {
      "cell_type": "code",
      "execution_count": 1,
      "metadata": {
        "id": "Sc3-orzTfov_"
      },
      "outputs": [],
      "source": [
        "import zipfile\n",
        "from google.colab import drive\n",
        "\n",
        "#drive.mount('/content/drive/')\n",
        "\n",
        "zip_ref = zipfile.ZipFile(\"/content/drive/MyDrive/datasetXL.zip\", 'r')\n",
        "zip_ref.extractall(\"/content\")\n",
        "zip_ref.close()"
      ]
    },
    {
      "cell_type": "markdown",
      "source": [
        "# Imports"
      ],
      "metadata": {
        "id": "loQgRlaBhVkh"
      }
    },
    {
      "cell_type": "code",
      "source": [
        "import sys, time\n",
        "from pathlib import Path\n",
        "import pandas as pd\n",
        "import matplotlib.pyplot as plt\n",
        "import matplotlib.image as mpimg \n",
        "import tensorflow as tf\n",
        "from keras.preprocessing.image import img_to_array, save_img, ImageDataGenerator\n",
        "import cv2\n",
        "from keras.models import Sequential, Model, load_model\n",
        "from keras.layers import Conv2D, MaxPooling2D, Dense, Flatten\n",
        "from tensorflow.keras.optimizers import Adam\n",
        "import keras\n",
        "import numpy as np\n",
        "from tensorflow.keras.utils import to_categorical\n",
        "import gc\n",
        "from keras.preprocessing import image\n",
        "from keras.callbacks import ModelCheckpoint\n",
        "import os\n",
        "import imutils\n"
      ],
      "metadata": {
        "id": "Tv8TwHK7hYXz"
      },
      "execution_count": 2,
      "outputs": []
    },
    {
      "cell_type": "markdown",
      "source": [
        "# Load images on df: path - label "
      ],
      "metadata": {
        "id": "XmQ1E005iKth"
      }
    },
    {
      "cell_type": "code",
      "source": [
        "data_dir = Path(\"datasetXL/\")\n",
        "train_dir = data_dir/'train'\n",
        "test_dir = data_dir/'val'\n",
        "\n",
        "def load_data(directories):  \n",
        "\n",
        "  dfs = {}\n",
        "  for dir in directories:\n",
        "\n",
        "    path_and_label = {}\n",
        "    normal_dir = dir/'Normal'\n",
        "    pneumonia_dir = dir/'Pneumonia'\n",
        "    covid_dir = dir/'Covid' \n",
        "\n",
        "    normal_paths = normal_dir.glob('*.jpeg')\n",
        "    pneumonia_paths = pneumonia_dir.glob('*.jpeg')\n",
        "    covid_paths = covid_dir.glob('*.jpeg') \n",
        "\n",
        "    for path in normal_paths:\n",
        "      path_and_label[path] = 'Normal'\n",
        "    for path in pneumonia_paths:\n",
        "      path_and_label[path] = 'Pneumonia'\n",
        "    for path in covid_paths:\n",
        "      path_and_label[path] = 'Covid'\n",
        "\n",
        "    path_and_label_df = pd.DataFrame(path_and_label.items())\n",
        "    path_and_label_df = path_and_label_df.rename(columns = { 0: 'path', 1: 'label'})\n",
        "\n",
        "    #* shuffle dataset and reset index\n",
        "    path_and_label_df = path_and_label_df.sample(frac = 1).reset_index(drop = True)\n",
        "\n",
        "    dfs[dir] = path_and_label_df\n",
        "\n",
        "  return dfs\n",
        "\n",
        "dirs = [ train_dir, test_dir]\n",
        "data_dfs = load_data(dirs)\n",
        "\n",
        "train_df = data_dfs[train_dir]\n",
        "test_df = data_dfs[test_dir]"
      ],
      "metadata": {
        "id": "98gigyGciLTD"
      },
      "execution_count": 39,
      "outputs": []
    },
    {
      "cell_type": "code",
      "source": [
        "plt.subplot(1, 2, 1)\n",
        "plt.bar(train_df['label'].value_counts().index,train_df['label'].value_counts().values, color = 'r', alpha = 0.7)\n",
        "plt.xlabel(\"Case Types\")\n",
        "plt.ylabel(\"Number of Cases - Train\")\n",
        "plt.grid(axis='y')\n",
        "\n",
        "plt.subplot(1, 2, 2)\n",
        "plt.bar(val_df['label'].value_counts().index,val_df['label'].value_counts().values, color = 'g', alpha = 0.7)\n",
        "\n",
        "plt.xlabel(\"Case Types\")\n",
        "plt.ylabel(\"Number of Cases - Validation\")\n",
        "plt.grid(axis='y')"
      ],
      "metadata": {
        "colab": {
          "base_uri": "https://localhost:8080/",
          "height": 279
        },
        "id": "X5IZWqWUmg3Y",
        "outputId": "2fffa3eb-024e-4b02-c969-32a478dcbb72"
      },
      "execution_count": 40,
      "outputs": [
        {
          "output_type": "display_data",
          "data": {
            "text/plain": [
              "<Figure size 432x288 with 2 Axes>"
            ],
            "image/png": "[encoded data removed]"
          },
          "metadata": {
            "needs_background": "light"
          }
        }
      ]
    },
    {
      "cell_type": "markdown",
      "source": [
        "# Downsampling"
      ],
      "metadata": {
        "id": "3YE8iuL_Mw7y"
      }
    },
    {
      "cell_type": "code",
      "source": [
        "num_covid = len(train_df[train_df['label'] == 'Covid'])\n",
        "num_norm = len(train_df[train_df['label'] == 'Normal'])\n",
        "num_pneu = len(train_df[train_df['label'] == 'Pneumonia'])\n",
        "\n",
        "np.random.seed(10)\n",
        "drop_indices_norm = np.random.choice(train_df[train_df['label'] == 'Normal'].index, (num_norm - (num_covid * 4)), replace=False)\n",
        "drop_indices_pneu = np.random.choice(train_df[train_df['label'] == 'Pneumonia'].index, (num_pneu - (num_covid * 4)), replace=False)\n",
        "drop_indices = np.concatenate((drop_indices_norm, drop_indices_pneu))\n",
        "\n",
        "train_df_downsampled = train_df.drop(drop_indices)\n"
      ],
      "metadata": {
        "id": "6E2HGNwdLRha"
      },
      "execution_count": 41,
      "outputs": []
    },
    {
      "cell_type": "code",
      "source": [
        "plt.subplot(1, 2, 1)\n",
        "plt.bar(train_df_downsampled['label'].value_counts().index,train_df_downsampled['label'].value_counts().values, color = 'r', alpha = 0.7)\n",
        "plt.xlabel(\"Case Types\")\n",
        "plt.ylabel(\"Number of Cases - Train\")\n",
        "plt.grid(axis='y')\n",
        "\n",
        "plt.subplot(1, 2, 2)\n",
        "plt.bar(val_df['label'].value_counts().index,val_df['label'].value_counts().values, color = 'g', alpha = 0.7)\n",
        "\n",
        "plt.xlabel(\"Case Types\")\n",
        "plt.ylabel(\"Number of Cases - Validation\")\n",
        "plt.grid(axis='y')"
      ],
      "metadata": {
        "colab": {
          "base_uri": "https://localhost:8080/",
          "height": 279
        },
        "id": "ouxdpMkYP8aj",
        "outputId": "e23f0298-b56d-43e0-a18d-f2c29c0425c5"
      },
      "execution_count": 42,
      "outputs": [
        {
          "output_type": "display_data",
          "data": {
            "text/plain": [
              "<Figure size 432x288 with 2 Axes>"
            ],
            "image/png": "[encoded data removed]"
          },
          "metadata": {
            "needs_background": "light"
          }
        }
      ]
    },
    {
      "cell_type": "code",
      "source": [
        "df_train = train_df_downsampled.sample(frac=0.8, random_state=1)\n",
        "df_val = train_df_downsampled.drop(df_train.index)"
      ],
      "metadata": {
        "id": "eaCdihQgXOmG"
      },
      "execution_count": 43,
      "outputs": []
    },
    {
      "cell_type": "markdown",
      "source": [
        "# Prepare"
      ],
      "metadata": {
        "id": "jZfJUZssnCCr"
      }
    },
    {
      "cell_type": "code",
      "source": [
        "def prepare(df):\n",
        "  data, labels = [], []\n",
        "\n",
        "  for j, row in df.iterrows():\n",
        "\n",
        "    img = cv2.imread(str(row['path']))  #* read image from path\n",
        "    img = cv2.resize(img, (224,224))     #* 224x224\n",
        "    img_ = cv2.cvtColor(img, cv2.COLOR_BGR2RGB)\n",
        "    img = img_.astype(np.float32)/255.\n",
        "\n",
        "    sys.stdout.write('\\r{0}'.format(str(j)))\n",
        "    \n",
        "\n",
        "    data.append(img)\n",
        "\n",
        "    label_str = row['label']\n",
        "\n",
        "    if label_str == 'Covid':\n",
        "      labels.append(to_categorical(0, num_classes = 3))\n",
        "    elif label_str == 'Normal': \n",
        "      labels.append(to_categorical(1, num_classes = 3))\n",
        "    else:\n",
        "      labels.append(to_categorical(2, num_classes = 3))\n",
        "\n",
        "    sys.stdout.flush()\n",
        "\n",
        "  return np.asarray(data), np.asarray(labels)"
      ],
      "metadata": {
        "id": "L1ygnekAnE4h"
      },
      "execution_count": 44,
      "outputs": []
    },
    {
      "cell_type": "code",
      "source": [
        "train_data, train_label = prepare(df_train)\n",
        "val_data, val_label = prepare(df_val)\n",
        "test_data, test_label = prepare(test_df)"
      ],
      "metadata": {
        "id": "UwhVKh59nWlC"
      },
      "execution_count": null,
      "outputs": []
    },
    {
      "cell_type": "markdown",
      "source": [
        "# Generate flipped"
      ],
      "metadata": {
        "id": "oJVrvlY3orkp"
      }
    },
    {
      "cell_type": "code",
      "source": [
        "def generate_flipped(dir, label):\n",
        "\n",
        "    input_img_list = dir.glob('*.jpeg')\n",
        "    data = []\n",
        "    lbl = []\n",
        "    for img in input_img_list:\n",
        "        sys.stdout.write('\\r{0}'.format(str(img)))\n",
        "        img_f = cv2.imread(str(img)) \n",
        "        img_f = cv2.resize(img_f, (224,224))\n",
        "        img_ = cv2.cvtColor(img_f, cv2.COLOR_BGR2RGB)\n",
        "        img_f = img_.astype(np.float32)/255. \n",
        "        flipped = tf.image.flip_left_right(img_f)\n",
        "        data.append(flipped)\n",
        "        \n",
        "        if label == 'Covid':\n",
        "            lbl.append(to_categorical(0, num_classes = 3))\n",
        "        elif label == 'Normal': \n",
        "            lbl.append(to_categorical(1, num_classes = 3))\n",
        "        else:\n",
        "            lbl.append(to_categorical(2, num_classes = 3))\n",
        "\n",
        "        sys.stdout.flush()\n",
        "\n",
        "    data = np.array(data)\n",
        "    lbl = np.array(lbl)\n",
        "    \n",
        "    return data, lbl"
      ],
      "metadata": {
        "id": "Vr-mA_lJouaa"
      },
      "execution_count": 11,
      "outputs": []
    },
    {
      "cell_type": "code",
      "source": [
        "#* Generate flipped only on covid cases to reduce imbalance problem\n",
        "flipped_data, flipped_label = generate_flipped(train_dir/'Covid', 'Covid')"
      ],
      "metadata": {
        "id": "YJ3s997no_hk"
      },
      "execution_count": null,
      "outputs": []
    },
    {
      "cell_type": "code",
      "source": [
        "train_data_f = np.vstack([train_data, flipped_data])\n",
        "train_label_f = np.vstack([train_label, flipped_label])\n",
        "\n",
        "del train_data\n",
        "del train_label\n",
        "gc.collect()"
      ],
      "metadata": {
        "id": "f6tBeDlmpYNv"
      },
      "execution_count": null,
      "outputs": []
    },
    {
      "cell_type": "markdown",
      "source": [
        "# Generate Rotated"
      ],
      "metadata": {
        "id": "zqz0xKuypvxS"
      }
    },
    {
      "cell_type": "code",
      "source": [
        "def generate_rotated_img(dir, label, angle, cropped = False, opposite_angle = False): \n",
        "\n",
        "    input_img_list = dir.glob('*.jpeg')\n",
        "    data = []\n",
        "    lbl = []\n",
        "\n",
        "    def write_label(label):\n",
        "        if label == 'Covid':\n",
        "            lbl.append(to_categorical(0, num_classes = 3))\n",
        "        elif label == 'Normal': \n",
        "            lbl.append(to_categorical(1, num_classes = 3))\n",
        "        else:\n",
        "            lbl.append(to_categorical(2, num_classes = 3))\n",
        "\n",
        "    def rotate(img, angle, cropped):\n",
        "        if cropped:\n",
        "            rotated = imutils.rotate(img, angle)\n",
        "            rotated = cv2.resize(rotated, (224,224))\n",
        "            data.append(rotated)\n",
        "            write_label(label)\n",
        "        else:\n",
        "            rotated = imutils.rotate_bound(img, angle)\n",
        "            rotated = cv2.resize(rotated, (224,224))\n",
        "            data.append(rotated)\n",
        "            write_label(label)\n",
        "\n",
        "\n",
        "    for img in input_img_list:\n",
        "        sys.stdout.write('\\r{0}'.format(str(img)))\n",
        "        img_r = cv2.imread(str(img)) \n",
        "        img_r = cv2.resize(img_r, (224,224))\n",
        "        img_ = cv2.cvtColor(img_r, cv2.COLOR_BGR2RGB)\n",
        "        img_r = img_.astype(np.float32)/255. \n",
        "\n",
        "        if opposite_angle:\n",
        "            rotate(img_r, angle, cropped) \n",
        "            rotate(img_r, angle*-1, cropped)              \n",
        "        else:\n",
        "            rotate(img_r, angle, cropped) \n",
        "        \n",
        "        sys.stdout.flush()\n",
        "\n",
        "    data = np.array(data)\n",
        "    lbl = np.array(lbl)\n",
        "    \n",
        "    return data, lbl\n"
      ],
      "metadata": {
        "id": "dOPcLTmApu_k"
      },
      "execution_count": 14,
      "outputs": []
    },
    {
      "cell_type": "code",
      "source": [
        "rotated_data5, rotated_label5 = generate_rotated_img(train_dir/'Covid', 'Covid', 5)\n",
        "\n",
        "train_data_r5 = np.vstack([train_data_f, rotated_data5])\n",
        "train_label_r5 = np.vstack([train_label_f, rotated_label5])\n",
        "\n",
        "del train_data_f\n",
        "del train_label_f\n",
        "gc.collect()"
      ],
      "metadata": {
        "id": "MUjyYw2sp0t5"
      },
      "execution_count": null,
      "outputs": []
    },
    {
      "cell_type": "code",
      "source": [
        "rotated_data10, rotated_label10 = generate_rotated_img(train_dir/'Covid', 'Covid', 10)\n",
        "\n",
        "train_data_r10 = np.vstack([train_data_r5, rotated_data10])\n",
        "train_label_r10 = np.vstack([train_label_r5, rotated_label10])\n",
        "\n",
        "del train_data_r5\n",
        "del train_label_r5\n",
        "gc.collect()"
      ],
      "metadata": {
        "id": "M-y5giv8ryMU"
      },
      "execution_count": null,
      "outputs": []
    },
    {
      "cell_type": "code",
      "source": [
        "categories = np.argmax(train_label_r10, axis=1)\n",
        "cat_labels = []\n",
        "\n",
        "for label in categories:\n",
        "    if label == 0:\n",
        "        cat_labels.append('Covid')\n",
        "    elif label == 1:\n",
        "        cat_labels.append('Normal')\n",
        "    else:\n",
        "        cat_labels.append('Pneumonia')\n",
        "\n",
        "label_df = pd.DataFrame(cat_labels)\n",
        "plt.bar(label_df[0].value_counts().index, label_df[0].value_counts().values, color = 'r', alpha = 0.7)\n",
        "plt.xlabel(\"Case Types\")\n",
        "plt.ylabel(\"Number of Cases\")\n",
        "plt.grid(axis='y')"
      ],
      "metadata": {
        "colab": {
          "base_uri": "https://localhost:8080/",
          "height": 279
        },
        "id": "33lKpoCztLQY",
        "outputId": "0679ddda-d89b-4cf4-fc4e-4747f347eb45"
      },
      "execution_count": 20,
      "outputs": [
        {
          "output_type": "display_data",
          "data": {
            "text/plain": [
              "<Figure size 432x288 with 1 Axes>"
            ],
            "image/png": "[encoded data removed]"
          },
          "metadata": {
            "needs_background": "light"
          }
        }
      ]
    },
    {
      "cell_type": "code",
      "source": [
        "model = Sequential()\n",
        "model.add(Conv2D(input_shape=(224,224,3),filters=64,kernel_size=(3,3),padding=\"same\", activation=\"relu\"))\n",
        "model.add(Conv2D(filters=64,kernel_size=(3,3),padding=\"same\", activation=\"relu\"))\n",
        "model.add(MaxPooling2D(pool_size=(2,2),strides=(2,2)))\n",
        "\n",
        "model.add(Flatten())\n",
        "model.add(Dense(units=64,activation=\"relu\"))\n",
        "model.add(Dense(units=3, activation=\"softmax\"))\n",
        "\n",
        "opt = Adam(learning_rate=0.001)\n",
        "model.compile(optimizer=opt, loss='categorical_crossentropy', metrics=['accuracy'])\n",
        "\n",
        "checkpoint_path = \"content/cnn_covid.h5\"\n",
        "checkpoint_dir = os.path.dirname(checkpoint_path)\n",
        "\n",
        "checkpoint = ModelCheckpoint(filepath=checkpoint_path, monitor='val_accuracy', verbose=1, save_best_only=True, save_weights_only=False, mode='max')\n",
        "\n",
        "hist = model.fit(train_data_r10, train_label_r10, \n",
        "                  validation_data= (val_data, val_label), \n",
        "                 epochs=5, callbacks=[checkpoint])\n"
      ],
      "metadata": {
        "id": "Z9c2TuHmZM49"
      },
      "execution_count": null,
      "outputs": []
    },
    {
      "cell_type": "markdown",
      "source": [
        "# Prediction"
      ],
      "metadata": {
        "id": "rZFJ3SOLf8aA"
      }
    },
    {
      "cell_type": "code",
      "source": [
        "cnn_model = load_model(\"content/cnn_covid.h5\")\n",
        "\n",
        "tp = 0\n",
        "for i in range(0, len(test_data)):\n",
        "    img = test_data[i].reshape(1, 224, 224, 3)\n",
        "    pred = cnn_model.predict(img)\n",
        "\n",
        "\n",
        "    index = np.where(pred == np.amax(pred))\n",
        "    index_ = np.where(test_label[i] == np.amax(test_label[i]))\n",
        "\n",
        "    if index[1] == index_[0]:\n",
        "        tp += 1\n",
        "\n",
        "tp\n"
      ],
      "metadata": {
        "id": "131XUpbyZ_qi"
      },
      "execution_count": null,
      "outputs": []
    },
    {
      "cell_type": "code",
      "source": [
        "ratio = (100 * tp)/len(test_data)\n",
        "ratio"
      ],
      "metadata": {
        "id": "J7jMB7WW2P_E"
      },
      "execution_count": null,
      "outputs": []
    }
  ]
}